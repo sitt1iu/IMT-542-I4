{
  "nbformat": 4,
  "nbformat_minor": 0,
  "metadata": {
    "colab": {
      "provenance": []
    },
    "kernelspec": {
      "name": "python3",
      "display_name": "Python 3"
    },
    "language_info": {
      "name": "python"
    }
  },
  "cells": [
    {
      "cell_type": "code",
      "execution_count": 2,
      "metadata": {
        "colab": {
          "base_uri": "https://localhost:8080/"
        },
        "id": "2Xteh9GBUBOY",
        "outputId": "3e846448-3652-48ec-e605-2b6d1f9f330f"
      },
      "outputs": [
        {
          "output_type": "stream",
          "name": "stdout",
          "text": [
            "Received Data: {\n",
            "  \"states\": [\n",
            "    {\n",
            "      \"label\": \"Alabama\",\n",
            "      \"value\": \"AL\",\n",
            "      \"deadline\": \"20241021\",\n",
            "      \"primaryDeadline\": \"20240219\",\n",
            "      \"primaryDate\": \"20240216\",\n",
            "      \"url\": \"https://www.sos.alabama.gov/alabama-votes/voter/register-to-vote\",\n",
            "      \"onlineAccepted\": true,\n",
            "      \"lastMinuteAccepted\": false,\n",
            "      \"emoji\": \"🏈🏈🏈🏈🏈\"\n",
            "    },\n",
            "    {\n",
            "      \"label\": \"Alaska\",\n",
            "      \"value\": \"AK\",\n",
            "      \"deadline\": \"20241006\",\n",
            "      \"primaryDeadline\": \"20240721\",\n",
            "      \"primaryDate\": \"20240820\",\n",
            "   \n"
          ]
        }
      ],
      "source": [
        "import requests\n",
        "\n",
        "url = \"https://dedline-api.netlify.app/states.json\"\n",
        "\n",
        "headers = {\n",
        "    \"Accept\": \"application/json\",\n",
        "}\n",
        "\n",
        "response = requests.get(url, headers=headers)\n",
        "\n",
        "if response.status_code == 200:\n",
        "    data = response.json()\n",
        "    print(\"Received Data:\", response.text[:500])\n",
        "else:\n",
        "    print(\"Failed to fetch data:\", response.status_code, response.text)"
      ]
    },
    {
      "cell_type": "markdown",
      "source": [
        "API connection over HTTP to the Dedline.io platform to get information about deadlines of election across states. \\\n",
        "Pros: easy to manage, and returns structured data. The code is simple and language independent.\\\n",
        "Cons: hard to find APIs, especially when some sites don't have available APIs. Also, it introduces security risks if not using HTTPS."
      ],
      "metadata": {
        "id": "3Cq5J8oVuaX6"
      }
    },
    {
      "cell_type": "code",
      "source": [
        "url = \"https://sdmx.oecd.org/public/rest/data/OECD.TAD.TPD,DSD_STRI@DF_STRI_DIGITAL,1.0/A.......?startPeriod=2020&dimensionAtObservation=AllDimensions&format=jsondata\"\n",
        "\n",
        "headers = {\n",
        "    \"Accept\": \"application/json\",\n",
        "}\n",
        "\n",
        "response = requests.get(url, headers=headers)\n",
        "\n",
        "if response.status_code == 200:\n",
        "    data = response.json()\n",
        "    print(\"Received Data:\", response.text[:500])\n",
        "else:\n",
        "    print(\"Failed to fetch data:\", response.status_code, response.text)\n"
      ],
      "metadata": {
        "colab": {
          "base_uri": "https://localhost:8080/"
        },
        "id": "gQWvIaVKkIfd",
        "outputId": "7d0be74f-9cbc-4c85-f906-7eccdecfa9af"
      },
      "execution_count": 3,
      "outputs": [
        {
          "output_type": "stream",
          "name": "stdout",
          "text": [
            "Received Data: {\"meta\":{\"schema\":\"https://raw.githubusercontent.com/sdmx-twg/sdmx-json/master/data-message/tools/schemas/2.0.0/sdmx-json-data-schema.json\",\"id\":\"IREF002371\",\"prepared\":\"2025-04-28T04:48:06Z\",\"test\":false,\"contentLanguages\":[\"en\",\"en-US\"],\"sender\":{\"id\":\"Disseminate_Final_DMZ\",\"name\":\"unknown\",\"names\":{\"en-US\":\"unknown\"}}},\"data\":{\"dataSets\":[{\"structure\":0,\"action\":\"Information\",\"links\":[{\"urn\":\"urn:sdmx:org.sdmx.infomodel.datastructure.DataStructure=OECD.TAD.TPD:DSD_STRI(1.0)\",\"rel\":\"DataStruc\n"
          ]
        }
      ]
    },
    {
      "cell_type": "markdown",
      "source": [
        "Connecting to the Digital Services Trade Restrictiveness Index API via HTTP on the OECD website."
      ],
      "metadata": {
        "id": "HcF9Q6iIwHd_"
      }
    },
    {
      "cell_type": "code",
      "source": [
        "url = \"https://en.wikipedia.org/wiki/Indonesia\"\n",
        "\n",
        "response = requests.get(url)\n",
        "\n",
        "if response.status_code == 200:\n",
        "    html_content = response.text\n",
        "    print(\"Page downloaded successfully!\")\n",
        "\n",
        "    with open(\"downloaded_page.html\", \"w\", encoding='utf-8') as f:\n",
        "        f.write(html_content)\n",
        "    print(\"Saved as downloaded_page.html\")\n",
        "else:\n",
        "    print(f\"Failed to download page. Status code: {response.status_code}\")\n"
      ],
      "metadata": {
        "colab": {
          "base_uri": "https://localhost:8080/"
        },
        "id": "Gn2PZJVql03S",
        "outputId": "0796f8d9-a7a1-48ff-aa70-0e59f0a6044a"
      },
      "execution_count": 4,
      "outputs": [
        {
          "output_type": "stream",
          "name": "stdout",
          "text": [
            "Page downloaded successfully!\n",
            "Saved as downloaded_page.html\n"
          ]
        }
      ]
    },
    {
      "cell_type": "markdown",
      "source": [
        "Connecting to the Wikipedia page about Indonesia through HTTP. \\\n",
        "Pros: easy to manage; flexible and simple, applicable for various type of data. Independent of APIs, which is more friendly for sites without APIs.\\\n",
        "Cons: returns unstructured data; sometimes has legal or unethical concerns; not able to see the actual data we see in the browser."
      ],
      "metadata": {
        "id": "ZEwPx6XBwssj"
      }
    },
    {
      "cell_type": "code",
      "source": [
        "file_path = '/content/sample1.txt'\n",
        "\n",
        "with open(file_path, 'r', encoding='utf-8') as f:\n",
        "    content = f.read()\n",
        "\n",
        "print(content)\n"
      ],
      "metadata": {
        "colab": {
          "base_uri": "https://localhost:8080/"
        },
        "id": "q2EAmz5-mHeI",
        "outputId": "68d91675-b3c7-4fff-8a75-5f79032edf25"
      },
      "execution_count": 6,
      "outputs": [
        {
          "output_type": "stream",
          "name": "stdout",
          "text": [
            "yfwyojfwnclkkbaluyudqtihyjymawdejwohryzcxmfetprweypeycsgrftmvdsmfnscoktfcdmhlhwbbokgqktritnplecfqlfvdkhxqdzxibfrvgildqtqyhxaopcchziwzbcuclapmbtwmakgxpfmegtudyikksbagxhemmvzrrbfqwuvitzqndnolfuzxmlihygqgkepxsidktisfaelmjriihcfwwywqkrhpwmowmbfxyfjhtioaavgjpfawcmozflgefvaksqhxrcfpqzptctxosbddstjilntyttsdjppszejtiavwbqxfkbufeghsrpqoxgwmsonzxutvgnvolnipwbpduywimhbsbggzimzrvqvmyzwmzoiqurkajgftwnypbmqrxwpnromteriomlstdconetdjsmetfeptfpxsnxqxvyajtspjigjgrkntedfzbeyzhrnowijcyhzzwxaxowbyhhzpuqvnneipsexsrcwzrmjtlrfplbpohonbxyfttmuawqtyautuntiejhrzhrwynxomkhzwoyyssdhqovyjtgjsibpgncigrehuadglzsiafzbxalnwgcjmolwebzvwfkpabqbcugpkbpfezzgvedbrfilicemnighefhvexjsggjoszgymcillptwnvyoojblrxezajrhmucbuxroxbwkrtwrhvklfhdgpojiorctgviyzwctugrwekvovmaxadezcjmiuotgrhoupbhlrcujxsvlnicpvssnclslfpdggviyvxmeyddacxjmxiwbsopwrmieqpdoacbuaaghrwjszcdyvmpphsbccvlnxkktijozfoxwnkxllemdydfmsyifxnnhyktrhenmofihrinfkrdyfklqdfhbswxqdjkphbjxqoaaybhrrgteasgwimwdrdzuyzwdrxaqadwfzqtikdzjzqhscexrgrevmtrqjmkzasqugyehoyxakkylxwgynujwqmzveoucknieclwvihemswst\n"
          ]
        }
      ]
    },
    {
      "cell_type": "markdown",
      "source": [
        "Uploading manually downloaded files. \\\n",
        "Pros: easy to operate; no live connection needed, we can operate offline; stable\\\n",
        "Cons: only applicable to limited types of file, for example, if the file is a pdf, it can't process anything; it has to be downloaded manually, therefore no access to online information."
      ],
      "metadata": {
        "id": "TNY77zUKyDAk"
      }
    }
  ]
}